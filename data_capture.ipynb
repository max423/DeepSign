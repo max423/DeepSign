{
 "cells": [
  {
   "cell_type": "code",
   "execution_count": 1,
   "outputs": [
    {
     "name": "stdout",
     "output_type": "stream",
     "text": [
      "Collecting data for class 0\n",
      "Collecting data for class 1\n",
      "Collecting data for class 2\n"
     ]
    }
   ],
   "source": [
    "import os\n",
    "import cv2\n",
    "\n",
    "# Create a directory to store the captured data\n",
    "DATA_DIR = './data'\n",
    "if not os.path.exists(DATA_DIR):\n",
    "    os.makedirs(DATA_DIR)\n",
    "\n",
    "number_of_classes = 3\n",
    "dataset_size = 100\n",
    "\n",
    "# Open the video capture\n",
    "cap = cv2.VideoCapture(0)\n",
    "\n",
    "# Iterate over the classes\n",
    "for j in range(number_of_classes):\n",
    "    # Create a directory for each class\n",
    "    if not os.path.exists(os.path.join(DATA_DIR, str(j))):\n",
    "        os.makedirs(os.path.join(DATA_DIR, str(j)))\n",
    "\n",
    "    print('Collecting data for class {}'.format(j))\n",
    "\n",
    "    # Start capturing data\n",
    "    while True:\n",
    "        ret, frame = cap.read()\n",
    "\n",
    "        # Display the capture instructions\n",
    "        text_top = 'Q to capture    E to exit'\n",
    "        text_top_size, _ = cv2.getTextSize(text_top, cv2.FONT_HERSHEY_SIMPLEX, 0.7, 1)\n",
    "        text_top_x = int((frame.shape[1] - text_top_size[0]) / 2)\n",
    "        cv2.putText(frame, text_top, (text_top_x, 30), cv2.FONT_HERSHEY_SIMPLEX, 0.7, (0, 0, 0), 1, cv2.LINE_AA)\n",
    "\n",
    "        # Display the current class\n",
    "        text_class = 'Current Class: {}'.format(j)\n",
    "        text_class_size, _ = cv2.getTextSize(text_class, cv2.FONT_HERSHEY_SIMPLEX, 0.7, 1)\n",
    "        text_class_x = 20\n",
    "        text_class_y = 30\n",
    "        cv2.putText(frame, text_class, (text_class_x, text_class_y), cv2.FONT_HERSHEY_SIMPLEX, 0.7, (0, 0, 255), 1, cv2.LINE_AA)\n",
    "\n",
    "        cv2.imshow('frame', frame)\n",
    "        key = cv2.waitKey(25)\n",
    "\n",
    "        # Check for key presses\n",
    "        if key == ord('q'):  # Capture the frame\n",
    "            break\n",
    "        elif key == ord('e'):  # Exit the program\n",
    "            cap.release()\n",
    "            cv2.destroyAllWindows()\n",
    "            exit(0)\n",
    "\n",
    "    # Save the captured frames for the current class\n",
    "    counter = 0\n",
    "    while counter < dataset_size:\n",
    "        ret, frame = cap.read()\n",
    "        cv2.imshow('frame', frame)\n",
    "        cv2.waitKey(25)\n",
    "        cv2.imwrite(os.path.join(DATA_DIR, str(j), '{}.jpg'.format(counter)), frame)\n",
    "\n",
    "        counter += 1\n",
    "\n",
    "# Release the video capture and close the windows\n",
    "cap.release()\n",
    "cv2.destroyAllWindows()\n"
   ],
   "metadata": {
    "collapsed": false
   }
  },
  {
   "cell_type": "code",
   "execution_count": null,
   "outputs": [],
   "source": [],
   "metadata": {
    "collapsed": false
   }
  }
 ],
 "metadata": {
  "kernelspec": {
   "display_name": "Python 3",
   "language": "python",
   "name": "python3"
  },
  "language_info": {
   "codemirror_mode": {
    "name": "ipython",
    "version": 2
   },
   "file_extension": ".py",
   "mimetype": "text/x-python",
   "name": "python",
   "nbconvert_exporter": "python",
   "pygments_lexer": "ipython2",
   "version": "2.7.6"
  }
 },
 "nbformat": 4,
 "nbformat_minor": 0
}
